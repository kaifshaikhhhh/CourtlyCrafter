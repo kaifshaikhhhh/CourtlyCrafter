{
 "cells": [
  {
   "cell_type": "markdown",
   "metadata": {},
   "source": [
    "<h3 style=\"text-align:center; background-color:black; color:white; font-family: 'Helvetica Neue', Helvetica, Arial, sans-serif; padding: 1rem 0;\">Importing Libraries</h3>"
   ]
  },
  {
   "cell_type": "code",
   "execution_count": 1,
   "metadata": {},
   "outputs": [],
   "source": [
    "import pandas as pd\n",
    "import seaborn as sns\n",
    "\n",
    "from matplotlib import pyplot as plt\n",
    "from tqdm.auto import tqdm\n",
    "\n",
    "tqdm.pandas()\n",
    "\n",
    "%matplotlib inline"
   ]
  },
  {
   "cell_type": "markdown",
   "metadata": {},
   "source": [
    "<h3 style=\"text-align:center; background-color:black; color:white; font-family: 'Helvetica Neue', Helvetica, Arial, sans-serif; padding: 1rem 0;\">Importing & Processing Dataset</h3>"
   ]
  },
  {
   "cell_type": "code",
   "execution_count": 2,
   "metadata": {},
   "outputs": [],
   "source": [
    "df_train = pd.read_csv('./dataset/train.csv')\n",
    "df_Val = pd.read_csv('./dataset/val.csv')\n",
    "df_test = pd.read_csv('./dataset/test.csv')"
   ]
  },
  {
   "cell_type": "code",
   "execution_count": null,
   "metadata": {},
   "outputs": [],
   "source": [
    "df = pd.concat([df_train, df_Val, df_test], ignore_index=True)\n",
    "df.reset_index(drop=True, inplace=True)"
   ]
  },
  {
   "cell_type": "markdown",
   "metadata": {},
   "source": [
    "<h3 style=\"text-align:center; background-color:black; color:white; font-family: 'Helvetica Neue', Helvetica, Arial, sans-serif; padding: 1rem 0;\">Data Statistics</h3>"
   ]
  },
  {
   "cell_type": "code",
   "execution_count": null,
   "metadata": {},
   "outputs": [],
   "source": [
    "total_docs = len(df)\n",
    "print(f'Total number of documents: {total_docs}')"
   ]
  },
  {
   "cell_type": "code",
   "execution_count": null,
   "metadata": {},
   "outputs": [],
   "source": [
    "df['total_tokens'] = df['text'].progress_apply(lambda x: len(x.split()))\n",
    "total_tokens = df['total_tokens'].sum()\n",
    "mean_tokens = df['total_tokens'].mean()"
   ]
  },
  {
   "cell_type": "code",
   "execution_count": null,
   "metadata": {},
   "outputs": [],
   "source": [
    "print(f'Total number of tokens: {total_tokens}')\n",
    "print(f'Mean number of tokens: {mean_tokens:.2f}')"
   ]
  },
  {
   "cell_type": "code",
   "execution_count": null,
   "metadata": {},
   "outputs": [],
   "source": [
    "df['total_sentences'] = df['text'].progress_apply(lambda x: len(x.split('.')))\n",
    "total_sentences = df['total_sentences'].sum()\n",
    "mean_sentences = df['total_sentences'].mean()"
   ]
  },
  {
   "cell_type": "code",
   "execution_count": null,
   "metadata": {},
   "outputs": [],
   "source": [
    "print(f'Total number of sentences: {total_sentences}')\n",
    "print(f'Mean number of sentences: {mean_sentences:2f}')"
   ]
  },
  {
   "cell_type": "code",
   "execution_count": null,
   "metadata": {},
   "outputs": [],
   "source": [
    "df.head(1)"
   ]
  },
  {
   "cell_type": "code",
   "execution_count": null,
   "metadata": {},
   "outputs": [],
   "source": [
    "# Calculate P10, P25, P50, P75, P90, P95, PMin and PMax using a function and then implement the same function for tokens, sentences and words. don't make a table\n",
    "\n",
    "def percentile(df, column):\n",
    "    p10 = df[column].quantile(0.1)\n",
    "    p25 = df[column].quantile(0.25)\n",
    "    p50 = df[column].quantile(0.5)\n",
    "    p75 = df[column].quantile(0.75)\n",
    "    p90 = df[column].quantile(0.9)\n",
    "    p95 = df[column].quantile(0.95)\n",
    "    pmin = df[column].min()\n",
    "    pmax = df[column].max()\n",
    "    return p10, p25, p50, p75, p90, p95, pmin, pmax"
   ]
  },
  {
   "cell_type": "code",
   "execution_count": null,
   "metadata": {},
   "outputs": [],
   "source": [
    "p10, p25, p50, p75, p90, p95, pmin, pmax = percentile(df, 'total_tokens')\n",
    "print(f'P10: {p10:.2f}')\n",
    "print(f'P25: {p25:.2f}')\n",
    "print(f'P50: {p50:.2f}')\n",
    "print(f'P75: {p75:.2f}')\n",
    "print(f'P90: {p90:.2f}')\n",
    "print(f'P95: {p95:.2f}')\n",
    "print(f'Pmin: {pmin:.2f}')\n",
    "print(f'Pmax: {pmax:.2f}')"
   ]
  },
  {
   "cell_type": "code",
   "execution_count": null,
   "metadata": {},
   "outputs": [],
   "source": [
    "p10, p25, p50, p75, p90, p95, pmin, pmax = percentile(df, 'total_sentences')\n",
    "print(f'P10: {p10:.2f}')\n",
    "print(f'P25: {p25:.2f}')\n",
    "print(f'P50: {p50:.2f}')\n",
    "print(f'P75: {p75:.2f}')\n",
    "print(f'P90: {p90:.2f}')\n",
    "print(f'P95: {p95:.2f}')\n",
    "print(f'Pmin: {pmin:.2f}')\n",
    "print(f'Pmax: {pmax:.2f}')"
   ]
  },
  {
   "cell_type": "markdown",
   "metadata": {},
   "source": [
    "<h3 style=\"text-align:center; background-color:black; color:white; font-family: 'Helvetica Neue', Helvetica, Arial, sans-serif; padding: 1rem 0;\">Data Visualization</h3>"
   ]
  },
  {
   "cell_type": "code",
   "execution_count": null,
   "metadata": {},
   "outputs": [],
   "source": [
    "# Plot the distribution of tokens, sentences and words with a pairplot using seaborn. Use pallette as blues with appropriate labels and title and size 10x10\n",
    "\n",
    "sns.set_style('whitegrid')\n",
    "plt.figure(figsize=(10, 10))\n",
    "sns.pairplot(df[['total_tokens', 'total_sentences']])\n",
    "plt.suptitle('Distribution of Tokens and Sentences')\n",
    "plt.show()"
   ]
  },
  {
   "cell_type": "code",
   "execution_count": null,
   "metadata": {},
   "outputs": [],
   "source": [
    "# Heatmap of correlation between tokens and words, label it properly and use pallette as blues, define plot size as 15x15\n",
    "\n",
    "plt.figure(figsize=(10, 8.125))\n",
    "plt.title('Correlation between Tokens and Sentences')\n",
    "sns.heatmap(df[['total_tokens', 'total_sentences']].corr(), annot=True, cmap='Blues')\n",
    "plt.show()"
   ]
  }
 ],
 "metadata": {
  "kernelspec": {
   "display_name": "workenv",
   "language": "python",
   "name": "python3"
  },
  "language_info": {
   "codemirror_mode": {
    "name": "ipython",
    "version": 3
   },
   "file_extension": ".py",
   "mimetype": "text/x-python",
   "name": "python",
   "nbconvert_exporter": "python",
   "pygments_lexer": "ipython3",
   "version": "3.9.17"
  }
 },
 "nbformat": 4,
 "nbformat_minor": 2
}
