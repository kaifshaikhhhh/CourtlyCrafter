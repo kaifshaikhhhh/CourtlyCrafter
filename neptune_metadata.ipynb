{
 "cells": [
  {
   "cell_type": "code",
   "execution_count": 1,
   "metadata": {},
   "outputs": [],
   "source": [
    "import neptune"
   ]
  },
  {
   "cell_type": "code",
   "execution_count": 2,
   "metadata": {},
   "outputs": [
    {
     "name": "stdout",
     "output_type": "stream",
     "text": [
      "https://app.neptune.ai/kaifshk/CourtlyCrafter/\n"
     ]
    }
   ],
   "source": [
    "project = neptune.init_project(\n",
    "    project=\"kaifshk/CourtlyCrafter\",\n",
    "    api_token=\"eyJhcGlfYWRkcmVzcyI6Imh0dHBzOi8vYXBwLm5lcHR1bmUuYWkiLCJhcGlfdXJsIjoiaHR0cHM6Ly9hcHAubmVwdHVuZS5haSIsImFwaV9rZXkiOiJlMjRmYzY1Ni0xYzU3LTRjNDgtYTM4YS05NjljNjMwYmNmMDYifQ==\"\n",
    ")"
   ]
  },
  {
   "cell_type": "code",
   "execution_count": 3,
   "metadata": {},
   "outputs": [],
   "source": [
    "# Notebook & Python File Uploads\n",
    "\n",
    "project[\"dataset_generation\"].upload(\"dataset_generation.ipynb\")\n",
    "project[\"neptune_metadata\"].upload(\"neptune_metadata.ipynb\")\n",
    "project[\"lex_lms_dataset\"].upload(\"lex_lms_dataset.py\")"
   ]
  },
  {
   "cell_type": "code",
   "execution_count": 5,
   "metadata": {},
   "outputs": [
    {
     "name": "stdout",
     "output_type": "stream",
     "text": [
      "Unexpected error occurred in Neptune background thread: Killing Neptune asynchronous thread. All data is safe on disk and can be later synced manually using `neptune sync` command.\n"
     ]
    },
    {
     "name": "stderr",
     "output_type": "stream",
     "text": [
      "Exception in thread NeptuneAsyncOpProcessor:\n",
      "Traceback (most recent call last):\n",
      "  File \"c:\\Users\\KXIF\\anaconda3\\envs\\workenv\\lib\\site-packages\\urllib3\\connectionpool.py\", line 714, in urlopen\n",
      "    httplib_response = self._make_request(\n",
      "  File \"c:\\Users\\KXIF\\anaconda3\\envs\\workenv\\lib\\site-packages\\urllib3\\connectionpool.py\", line 415, in _make_request\n",
      "    conn.request(method, url, **httplib_request_kw)\n",
      "  File \"c:\\Users\\KXIF\\anaconda3\\envs\\workenv\\lib\\site-packages\\urllib3\\connection.py\", line 244, in request\n",
      "    super(HTTPConnection, self).request(method, url, body=body, headers=headers)\n",
      "  File \"c:\\Users\\KXIF\\anaconda3\\envs\\workenv\\lib\\http\\client.py\", line 1285, in request\n",
      "    self._send_request(method, url, body, headers, encode_chunked)\n",
      "  File \"c:\\Users\\KXIF\\anaconda3\\envs\\workenv\\lib\\http\\client.py\", line 1331, in _send_request\n",
      "    self.endheaders(body, encode_chunked=encode_chunked)\n",
      "  File \"c:\\Users\\KXIF\\anaconda3\\envs\\workenv\\lib\\http\\client.py\", line 1280, in endheaders\n",
      "    self._send_output(message_body, encode_chunked=encode_chunked)\n",
      "  File \"c:\\Users\\KXIF\\anaconda3\\envs\\workenv\\lib\\http\\client.py\", line 1079, in _send_output\n",
      "    self.send(chunk)\n",
      "  File \"c:\\Users\\KXIF\\anaconda3\\envs\\workenv\\lib\\http\\client.py\", line 1001, in send\n",
      "    self.sock.sendall(data)\n",
      "  File \"c:\\Users\\KXIF\\anaconda3\\envs\\workenv\\lib\\ssl.py\", line 1205, in sendall\n",
      "    v = self.send(byte_view[count:])\n",
      "  File \"c:\\Users\\KXIF\\anaconda3\\envs\\workenv\\lib\\ssl.py\", line 1174, in send\n",
      "    return self._sslobj.write(data)\n",
      "ConnectionResetError: [WinError 10054] An existing connection was forcibly closed by the remote host\n",
      "\n",
      "During handling of the above exception, another exception occurred:\n",
      "\n",
      "Traceback (most recent call last):\n",
      "  File \"c:\\Users\\KXIF\\anaconda3\\envs\\workenv\\lib\\site-packages\\requests\\adapters.py\", line 486, in send\n",
      "    resp = conn.urlopen(\n",
      "  File \"c:\\Users\\KXIF\\anaconda3\\envs\\workenv\\lib\\site-packages\\urllib3\\connectionpool.py\", line 798, in urlopen\n",
      "    retries = retries.increment(\n",
      "  File \"c:\\Users\\KXIF\\anaconda3\\envs\\workenv\\lib\\site-packages\\urllib3\\util\\retry.py\", line 550, in increment\n",
      "    raise six.reraise(type(error), error, _stacktrace)\n",
      "  File \"c:\\Users\\KXIF\\anaconda3\\envs\\workenv\\lib\\site-packages\\urllib3\\packages\\six.py\", line 769, in reraise\n",
      "    raise value.with_traceback(tb)\n",
      "  File \"c:\\Users\\KXIF\\anaconda3\\envs\\workenv\\lib\\site-packages\\urllib3\\connectionpool.py\", line 714, in urlopen\n",
      "    httplib_response = self._make_request(\n",
      "  File \"c:\\Users\\KXIF\\anaconda3\\envs\\workenv\\lib\\site-packages\\urllib3\\connectionpool.py\", line 415, in _make_request\n",
      "    conn.request(method, url, **httplib_request_kw)\n",
      "  File \"c:\\Users\\KXIF\\anaconda3\\envs\\workenv\\lib\\site-packages\\urllib3\\connection.py\", line 244, in request\n",
      "    super(HTTPConnection, self).request(method, url, body=body, headers=headers)\n",
      "  File \"c:\\Users\\KXIF\\anaconda3\\envs\\workenv\\lib\\http\\client.py\", line 1285, in request\n",
      "    self._send_request(method, url, body, headers, encode_chunked)\n",
      "  File \"c:\\Users\\KXIF\\anaconda3\\envs\\workenv\\lib\\http\\client.py\", line 1331, in _send_request\n",
      "    self.endheaders(body, encode_chunked=encode_chunked)\n",
      "  File \"c:\\Users\\KXIF\\anaconda3\\envs\\workenv\\lib\\http\\client.py\", line 1280, in endheaders\n",
      "    self._send_output(message_body, encode_chunked=encode_chunked)\n",
      "  File \"c:\\Users\\KXIF\\anaconda3\\envs\\workenv\\lib\\http\\client.py\", line 1079, in _send_output\n",
      "    self.send(chunk)\n",
      "  File \"c:\\Users\\KXIF\\anaconda3\\envs\\workenv\\lib\\http\\client.py\", line 1001, in send\n",
      "    self.sock.sendall(data)\n",
      "  File \"c:\\Users\\KXIF\\anaconda3\\envs\\workenv\\lib\\ssl.py\", line 1205, in sendall\n",
      "    v = self.send(byte_view[count:])\n",
      "  File \"c:\\Users\\KXIF\\anaconda3\\envs\\workenv\\lib\\ssl.py\", line 1174, in send\n",
      "    return self._sslobj.write(data)\n",
      "urllib3.exceptions.ProtocolError: ('Connection aborted.', ConnectionResetError(10054, 'An existing connection was forcibly closed by the remote host', None, 10054, None))\n",
      "\n",
      "During handling of the above exception, another exception occurred:\n",
      "\n",
      "Traceback (most recent call last):\n",
      "  File \"c:\\Users\\KXIF\\anaconda3\\envs\\workenv\\lib\\site-packages\\neptune\\common\\backends\\utils.py\", line 75, in wrapper\n",
      "    return func(*args, **kwargs)\n",
      "  File \"c:\\Users\\KXIF\\anaconda3\\envs\\workenv\\lib\\site-packages\\neptune\\internal\\backends\\hosted_file_operations.py\", line 374, in upload_raw_data\n",
      "    response = handle_server_raw_response_messages(session.send(session.prepare_request(request)))\n",
      "  File \"c:\\Users\\KXIF\\anaconda3\\envs\\workenv\\lib\\site-packages\\requests\\sessions.py\", line 703, in send\n",
      "    r = adapter.send(request, **kwargs)\n",
      "  File \"c:\\Users\\KXIF\\anaconda3\\envs\\workenv\\lib\\site-packages\\requests\\adapters.py\", line 501, in send\n",
      "    raise ConnectionError(err, request=request)\n",
      "requests.exceptions.ConnectionError: ('Connection aborted.', ConnectionResetError(10054, 'An existing connection was forcibly closed by the remote host', None, 10054, None))\n",
      "\n",
      "The above exception was the direct cause of the following exception:\n",
      "\n",
      "Traceback (most recent call last):\n",
      "  File \"c:\\Users\\KXIF\\anaconda3\\envs\\workenv\\lib\\site-packages\\neptune\\internal\\operation_processors\\async_operation_processor.py\", line 310, in process_batch\n",
      "    processed_count, errors = self._processor._backend.execute_operations(\n",
      "  File \"c:\\Users\\KXIF\\anaconda3\\envs\\workenv\\lib\\site-packages\\neptune\\internal\\backends\\hosted_neptune_backend.py\", line 470, in execute_operations\n",
      "    self._execute_upload_operations_with_400_retry(\n",
      "  File \"c:\\Users\\KXIF\\anaconda3\\envs\\workenv\\lib\\site-packages\\neptune\\internal\\backends\\hosted_neptune_backend.py\", line 574, in _execute_upload_operations_with_400_retry\n",
      "    return self._execute_upload_operations(\n",
      "  File \"c:\\Users\\KXIF\\anaconda3\\envs\\workenv\\lib\\site-packages\\neptune\\internal\\backends\\hosted_neptune_backend.py\", line 528, in _execute_upload_operations\n",
      "    upload_errors = upload_file_attribute(\n",
      "  File \"c:\\Users\\KXIF\\anaconda3\\envs\\workenv\\lib\\site-packages\\neptune\\internal\\backends\\hosted_file_operations.py\", line 115, in upload_file_attribute\n",
      "    _multichunk_upload_with_retry(\n",
      "  File \"c:\\Users\\KXIF\\anaconda3\\envs\\workenv\\lib\\site-packages\\neptune\\internal\\backends\\hosted_file_operations.py\", line 286, in _multichunk_upload_with_retry\n",
      "    return _multichunk_upload(upload_entry, swagger_client, query_params, multipart_config, urlset)\n",
      "  File \"c:\\Users\\KXIF\\anaconda3\\envs\\workenv\\lib\\site-packages\\neptune\\internal\\backends\\hosted_file_operations.py\", line 332, in _multichunk_upload\n",
      "    result = upload_raw_data(\n",
      "  File \"c:\\Users\\KXIF\\anaconda3\\envs\\workenv\\lib\\site-packages\\neptune\\common\\backends\\utils.py\", line 137, in wrapper\n",
      "    raise NeptuneConnectionLostException(last_exception) from last_exception\n",
      "neptune.common.exceptions.NeptuneConnectionLostException: \n",
      "\n",
      "----NeptuneConnectionLostException---------------------------------------------------------\n",
      "\n",
      "The connection to the Neptune server was lost.\n",
      "If you are using the asynchronous (default) connection mode, Neptune continues to locally track your metadata and continuously tries to re-establish a connection to the Neptune servers.\n",
      "If the connection is not re-established, you can upload your data later with the Neptune Command Line Interface tool:\n",
      "    neptune sync -p workspace_name/project_name\n",
      "\n",
      "What should I do?\n",
      "    - Check if your computer is connected to the internet.\n",
      "    - If your connection is unstable, consider working in offline mode:\n",
      "        run = neptune.init_run(mode=\"offline\")\n",
      "\n",
      "You can find detailed instructions on the following doc pages:\n",
      "    - https://docs.neptune.ai/api/connection_modes/#offline-mode\n",
      "    - https://docs.neptune.ai/api/neptune_sync/\n",
      "\n",
      "You may also want to check the following docs page:\n",
      "    - https://docs.neptune.ai/api/connection_modes/#connectivity-issues\n",
      "\n",
      "Need help?-> https://docs.neptune.ai/getting_help\n",
      "\n",
      "\n",
      "During handling of the above exception, another exception occurred:\n",
      "\n",
      "Traceback (most recent call last):\n",
      "  File \"c:\\Users\\KXIF\\anaconda3\\envs\\workenv\\lib\\threading.py\", line 980, in _bootstrap_inner\n",
      "    self.run()\n",
      "  File \"c:\\Users\\KXIF\\anaconda3\\envs\\workenv\\lib\\site-packages\\neptune\\internal\\operation_processors\\async_operation_processor.py\", line 274, in run\n",
      "    super().run()\n",
      "  File \"c:\\Users\\KXIF\\anaconda3\\envs\\workenv\\lib\\site-packages\\neptune\\internal\\threading\\daemon.py\", line 95, in run\n",
      "    self.work()\n",
      "  File \"c:\\Users\\KXIF\\anaconda3\\envs\\workenv\\lib\\site-packages\\neptune\\internal\\operation_processors\\async_operation_processor.py\", line 290, in work\n",
      "    self.process_batch([element.obj for element in batch], batch[-1].ver)\n",
      "  File \"c:\\Users\\KXIF\\anaconda3\\envs\\workenv\\lib\\site-packages\\neptune\\internal\\threading\\daemon.py\", line 120, in wrapper\n",
      "    result = func(self_, *args, **kwargs)\n",
      "  File \"c:\\Users\\KXIF\\anaconda3\\envs\\workenv\\lib\\site-packages\\neptune\\internal\\operation_processors\\async_operation_processor.py\", line 317, in process_batch\n",
      "    self._check_no_progress()\n",
      "  File \"c:\\Users\\KXIF\\anaconda3\\envs\\workenv\\lib\\site-packages\\neptune\\internal\\operation_processors\\async_operation_processor.py\", line 294, in _check_no_progress\n",
      "    if monotonic() - self._processor._last_ack > self._processor._async_no_progress_threshold:\n",
      "TypeError: unsupported operand type(s) for -: 'float' and 'NoneType'\n"
     ]
    }
   ],
   "source": [
    "# Dataset Uploads\n",
    "\n",
    "project[\"train_set\"].upload(\"./dataset/train.csv\")\n",
    "project[\"validation_set\"].upload(\"./dataset/val.csv\")\n",
    "project[\"test_set\"].upload(\"./dataset/test.csv\")"
   ]
  }
 ],
 "metadata": {
  "kernelspec": {
   "display_name": "workenv",
   "language": "python",
   "name": "python3"
  },
  "language_info": {
   "codemirror_mode": {
    "name": "ipython",
    "version": 3
   },
   "file_extension": ".py",
   "mimetype": "text/x-python",
   "name": "python",
   "nbconvert_exporter": "python",
   "pygments_lexer": "ipython3",
   "version": "3.9.17"
  }
 },
 "nbformat": 4,
 "nbformat_minor": 2
}
