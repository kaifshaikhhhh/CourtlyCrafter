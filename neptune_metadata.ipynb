{
 "cells": [
  {
   "cell_type": "code",
   "execution_count": null,
   "metadata": {},
   "outputs": [],
   "source": [
    "import neptune"
   ]
  },
  {
   "cell_type": "code",
   "execution_count": null,
   "metadata": {},
   "outputs": [],
   "source": [
    "project = neptune.init_project(\n",
    "    project=\"kaifshk/CourtlyCrafter\",\n",
    "    api_token=\"eyJhcGlfYWRkcmVzcyI6Imh0dHBzOi8vYXBwLm5lcHR1bmUuYWkiLCJhcGlfdXJsIjoiaHR0cHM6Ly9hcHAubmVwdHVuZS5haSIsImFwaV9rZXkiOiJlMjRmYzY1Ni0xYzU3LTRjNDgtYTM4YS05NjljNjMwYmNmMDYifQ==\"\n",
    ")"
   ]
  },
  {
   "cell_type": "code",
   "execution_count": null,
   "metadata": {},
   "outputs": [],
   "source": [
    "# Notebook & Python File Uploads\n",
    "\n",
    "project[\"dataset_generation\"].upload(\"dataset_generation.ipynb\")\n",
    "project[\"neptune_metadata\"].upload(\"neptune_metadata.ipynb\")\n",
    "project[\"lex_lms_dataset\"].upload(\"lex_lms_dataset.py\")"
   ]
  },
  {
   "cell_type": "code",
   "execution_count": null,
   "metadata": {},
   "outputs": [],
   "source": [
    "# Dataset Uploads\n",
    "\n",
    "project[\"train_set\"].upload(\"./dataset/train.csv\")\n",
    "project[\"validation_set\"].upload(\"./dataset/val.csv\")\n",
    "project[\"test_set\"].upload(\"./dataset/test.csv\")"
   ]
  }
 ],
 "metadata": {
  "kernelspec": {
   "display_name": "workenv",
   "language": "python",
   "name": "python3"
  },
  "language_info": {
   "codemirror_mode": {
    "name": "ipython",
    "version": 3
   },
   "file_extension": ".py",
   "mimetype": "text/x-python",
   "name": "python",
   "nbconvert_exporter": "python",
   "pygments_lexer": "ipython3",
   "version": "3.9.17"
  }
 },
 "nbformat": 4,
 "nbformat_minor": 2
}
